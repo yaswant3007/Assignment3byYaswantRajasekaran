{
 "cells": [
  {
   "cell_type": "code",
   "execution_count": 1,
   "id": "9b2927ec",
   "metadata": {},
   "outputs": [
    {
     "name": "stdout",
     "output_type": "stream",
     "text": [
      "x is less than y.\n"
     ]
    }
   ],
   "source": [
    "\"\"\"IF Statement\n",
    "Problems:\n",
    "1. Write a program to check whether x is less than y\n",
    "where, x = 20 and y = 30\n",
    "Assigning x equal to 20 Assigning y equal to 30 If condition x is less then y then go to step 4 print x\n",
    "is less then y\"\"\"\n",
    "x=20\n",
    "y=30\n",
    "if x<y:\n",
    "    print(\"x is less than y.\")\n",
    "if x>y:\n",
    "    print(\"x is greater than y.\")"
   ]
  },
  {
   "cell_type": "code",
   "execution_count": 2,
   "id": "2730db37",
   "metadata": {},
   "outputs": [
    {
     "name": "stdout",
     "output_type": "stream",
     "text": [
      "Invalid Score\n"
     ]
    }
   ],
   "source": [
    "\"\"\"\n",
    "2. Write a program to check whether the total score (theory --> 100 + practical --> 100) is less\n",
    "than or equal to 200. If it goes beyond 200, print an error or a warning message.\n",
    "Hint:\n",
    "Set, Theory equal to 140 Practical equal to 145 If condition for theory + practical is greater than 200\n",
    "then, print invalid score\n",
    "\"\"\"\n",
    "\n",
    "Theory = 140\n",
    "Practical = 145\n",
    "if Theory+Practical>200:\n",
    "    print(\"Invalid Score\")"
   ]
  },
  {
   "cell_type": "code",
   "execution_count": 3,
   "id": "763186cb",
   "metadata": {},
   "outputs": [
    {
     "name": "stdout",
     "output_type": "stream",
     "text": [
      "yes\n",
      "Cleared the test.\n"
     ]
    }
   ],
   "source": [
    "\"\"\" \n",
    "If-else Statement\n",
    "3. Write a python program to to check whether the student has passed the subject based on\n",
    "string input yes/no\n",
    "Hint:\n",
    "Get an user input 'yes' / 'no' pass this to variable named 'Subject' Create a If condition, when the\n",
    "Subject value is 'yes' then print 'Cleared the test', Else print 'Failed the test'.\n",
    "\"\"\"\n",
    "Subject = input().lower()\n",
    "if Subject==\"yes\":\n",
    "    print(\"Cleared the test.\")\n",
    "else:\n",
    "    print(\"Failed the test.\")"
   ]
  },
  {
   "cell_type": "code",
   "execution_count": 4,
   "id": "b51118c2",
   "metadata": {},
   "outputs": [
    {
     "name": "stdout",
     "output_type": "stream",
     "text": [
      "Enter the password : great\n",
      "Password Accepted\n"
     ]
    }
   ],
   "source": [
    "\"\"\"\n",
    "4. Write a program to get the password from user, check whether the password is 'great'.\n",
    "Through a reply to the user accordingly.\n",
    "Hint:\n",
    "Get password from user, the input statement should be 'Enter the password: ' pass this to variable\n",
    "named 'Password' If passwrod is 'great', print 'Password Accepted' else print 'Wrong Password'\n",
    "\"\"\"\n",
    "Password = input(\"Enter the password : \")\n",
    "if Password=='great':\n",
    "    print(\"Password Accepted\")\n",
    "else:\n",
    "    print(\"Wrong Password\")"
   ]
  },
  {
   "cell_type": "code",
   "execution_count": 5,
   "id": "d0fb9ce0",
   "metadata": {},
   "outputs": [
    {
     "name": "stdout",
     "output_type": "stream",
     "text": [
      "26\n",
      "You are eligible to work; Fill in your details and apply.\n"
     ]
    }
   ],
   "source": [
    "\"\"\"\n",
    "Nested if Statement\n",
    "1. Based on the users age, divide them in to three groups Group 1 : Age <=18 , Minors who are\n",
    "not eligible to work Group 2 : 18<Age<60 , ELigible to work Group 3 : >=60, Too old to work\n",
    "as per govt. regulations.\n",
    "Write a program for the same\n",
    "Hint:\n",
    "Create variable Name age equal to input if condition for age is < 18 go to step 3 , else go to step 5\n",
    "print Your Minor not Eligible to Work if condition for age >= 18 and age <= 60 go to step 5 , else go\n",
    "to step 6 print Your Eligible to Work fill in your details and apply print Your too old to work as per the\n",
    "Government rules Please Collect your pension\n",
    "\"\"\"\n",
    "age = int(input())\n",
    "if age<=18:\n",
    "    print(\"You are Minor so you are not eligible to work.\")\n",
    "if age>=18 and age<60:\n",
    "    print(\"You are eligible to work; Fill in your details and apply.\")\n",
    "if age>=60:\n",
    "    print(\"You are too old to work as per the government rules; Please collect your pension.\")"
   ]
  },
  {
   "cell_type": "code",
   "execution_count": 6,
   "id": "be461824",
   "metadata": {},
   "outputs": [
    {
     "name": "stdout",
     "output_type": "stream",
     "text": [
      "5\n",
      "5 4 3 2 1 0 "
     ]
    }
   ],
   "source": [
    "\"\"\"\n",
    "While Loop\n",
    "1. Take an integer as input from the user and print all the numbers from 0 to that number in\n",
    "reverse order.\n",
    "Example : if the input is 3, the output should be 3 2 1\n",
    "Hint:\n",
    "Create variable n using input value give the while loop condition i.e. n > 0 then decrement, n = n-1\n",
    "print n\n",
    "\"\"\"\n",
    "n=int(input())\n",
    "i=0\n",
    "while n>0:\n",
    "    i=i+1\n",
    "    if i==1:\n",
    "        print(n,end=\" \")\n",
    "    else:\n",
    "        n=n-1\n",
    "        print(n,end=\" \")"
   ]
  },
  {
   "cell_type": "code",
   "execution_count": 7,
   "id": "f41e38c0",
   "metadata": {},
   "outputs": [
    {
     "name": "stdout",
     "output_type": "stream",
     "text": [
      "10\n",
      "11 ,22 ,33 ,44 ,55 ,66 ,77 ,88 ,99 ,1010\n"
     ]
    }
   ],
   "source": [
    "\"\"\"\n",
    "2. Write a python code to find the squares of all the numbers based on an input.\n",
    "Example : If the input is 10, the output should be 11 ,22 ,33...... 1010\n",
    "Hint:\n",
    "Create the variable i assigning to 1 Give the while loop condition for i <= 10 print i ** 2 increment i\n",
    "loop will execute until i is less than or equal to 10\n",
    "\"\"\"\n",
    "j=int(input())\n",
    "i=1\n",
    "while i<=j:\n",
    "    print(i,end=\"\")\n",
    "    if i==j:\n",
    "        print(i)\n",
    "    else:\n",
    "        print(i,end=\" ,\")\n",
    "    \n",
    "    i+=1"
   ]
  },
  {
   "cell_type": "code",
   "execution_count": 8,
   "id": "39f217b6",
   "metadata": {},
   "outputs": [
    {
     "name": "stdout",
     "output_type": "stream",
     "text": [
      "5\n",
      "5 X 1 = 5 5 X 2 = 10 5 X 3 = 15 5 X 4 = 20 5 X 5 = 25 5 X 6 = 30 5 X 7 = 35 5 X 8 = 40 5 X 9 = 45 5 X 10 = 50 "
     ]
    }
   ],
   "source": [
    "\"\"\"\n",
    "For Loop\n",
    "1. Write a pseudocode to print the multiplication table of a given number.\n",
    "Example : if the user input is 3, the output should be like below :\n",
    "3 X 1 = 3 3 X 2 = 6 ... 3 X 10 =30\n",
    "Hint:\n",
    "Get user input and store it in variable n. Give the For loop condition in the range between (1,11) In\n",
    "print statement give the condition (n,'x',i,'=' ,n*i) This will print the multiplication tables of a given\n",
    "number.\n",
    "\"\"\"\n",
    "n=int(input())\n",
    "for i in range(1,11):\n",
    "    y=n*i\n",
    "    print(n,\"X\",i,\"=\",y, end=\" \")"
   ]
  },
  {
   "cell_type": "code",
   "execution_count": 9,
   "id": "06e991f3",
   "metadata": {},
   "outputs": [
    {
     "name": "stdout",
     "output_type": "stream",
     "text": [
      "1\n",
      "484\n",
      "196\n",
      "4096\n",
      "961\n",
      "14400\n"
     ]
    }
   ],
   "source": [
    "\"\"\"\n",
    "2. Write a python code to print squares of all numbers present in the list = [1, 22, 14, 64, 31,\n",
    "120]\n",
    "Hint:\n",
    "Create a list named 'numbers' [1, 22, 14, 64, 31, 120] Create a variable name 'square' and assign 0\n",
    "to it For loop condition for i in the list square equal to i * i\n",
    "Print square    \n",
    "\"\"\"\n",
    "numbers = [1,22,14,64,31,120]\n",
    "square = 0\n",
    "for i in numbers:\n",
    "    square=i*i\n",
    "    print(square)"
   ]
  },
  {
   "cell_type": "code",
   "execution_count": 10,
   "id": "cac86e84",
   "metadata": {},
   "outputs": [
    {
     "name": "stdout",
     "output_type": "stream",
     "text": [
      "red\n",
      "black\n",
      "blue\n"
     ]
    }
   ],
   "source": [
    "\"\"\"\n",
    "Additional Practice Programs\n",
    "1. Write a python program that takes a list ['red','black','blue'] and prints each element in the list\n",
    "using while loop\n",
    "\"\"\"\n",
    "j=['red','black','blue']\n",
    "i=0\n",
    "while i<=len(j)-1:\n",
    "    print(j[i])\n",
    "    i+=1"
   ]
  },
  {
   "cell_type": "code",
   "execution_count": 11,
   "id": "3ac20b52",
   "metadata": {},
   "outputs": [
    {
     "name": "stdout",
     "output_type": "stream",
     "text": [
      "red\n",
      "black\n",
      "blue\n"
     ]
    }
   ],
   "source": [
    "\"\"\"\n",
    "2.Write a same program as above using a For loop?\n",
    "\"\"\"\n",
    "j=['red','black','blue']\n",
    "for i in j:\n",
    "    print(i)"
   ]
  },
  {
   "cell_type": "code",
   "execution_count": 12,
   "id": "8aa68800",
   "metadata": {},
   "outputs": [
    {
     "name": "stdout",
     "output_type": "stream",
     "text": [
      "Enter the first Number:256\n",
      "Enter the second Number:1166\n",
      "149248.0\n"
     ]
    }
   ],
   "source": [
    "\"\"\"\n",
    "3. Write a Python Program to find the LCM of two numbers?\n",
    "\"\"\"\n",
    "def lcm(x,y): #this function for finding the greatest common divisor was made using the concept of Euclidian algorithm\n",
    "    lx=x\n",
    "    ly=y\n",
    "    c=1\n",
    "    i=0\n",
    "    d=0\n",
    "    r=1\n",
    "    g=0\n",
    "    l=0\n",
    "    if x<y:\n",
    "       while i==0 :\n",
    "            c=0\n",
    "            d=0\n",
    "            while c<y or c==y:\n",
    "                d=d+1\n",
    "                c=x*d\n",
    "            c=x*(d-1)    \n",
    "            r=y-c\n",
    "            if r==0:\n",
    "                break\n",
    "            y=x\n",
    "            x=r\n",
    "    elif y<x:\n",
    "        while i==0 :\n",
    "            c=0\n",
    "            d=0\n",
    "            while c<x or c==x:\n",
    "                d=d+1\n",
    "                c=y*d\n",
    "            c=y*(d-1) \n",
    "            r=x-c\n",
    "            if r==0:\n",
    "                break\n",
    "            x=y\n",
    "            y=r\n",
    "    if x<y:\n",
    "        g=x #gcd when x<y\n",
    "    if y<x:\n",
    "        g=y #gcd when y<x\n",
    "    if lx*ly<0:\n",
    "        l=-(lx*ly)/g\n",
    "    else:\n",
    "        l=(lx*ly)/g\n",
    "    \n",
    "    return l \n",
    "            \n",
    "    \n",
    "    \n",
    "\n",
    "inpt1=int(input(\"Enter the first Number:\"))\n",
    "inpt2=int(input(\"Enter the second Number:\"))\n",
    "print(lcm(inpt1,inpt2))\n",
    "\n"
   ]
  },
  {
   "cell_type": "code",
   "execution_count": 13,
   "id": "35dc81f4",
   "metadata": {},
   "outputs": [
    {
     "name": "stdout",
     "output_type": "stream",
     "text": [
      "Enter the number of elements that  you  want add in the series:10\n",
      "2.9289682539682538\n"
     ]
    }
   ],
   "source": [
    "\"\"\"\n",
    "4. Python Program to find the sum of series: 1 + 1/2 + 1/3 + ….. + 1/N.\n",
    "\n",
    "\"\"\"\n",
    "def Sum_of_a_Series(N):\n",
    "    sumofseries=0\n",
    "    for i in range(1,N+1):\n",
    "        sumofseries+=(1/i)\n",
    "    return sumofseries\n",
    "\n",
    "inpt= int(input(\"Enter the number of elements that  you  want add in the series:\"))\n",
    "print(Sum_of_a_Series(inpt))"
   ]
  },
  {
   "cell_type": "code",
   "execution_count": 15,
   "id": "d856895a",
   "metadata": {},
   "outputs": [
    {
     "name": "stdout",
     "output_type": "stream",
     "text": [
      "[0, 1, 4, 9, 16, 25, 36, 49, 64, 81, 100]\n"
     ]
    }
   ],
   "source": [
    "\"\"\"\n",
    "List Comprehensions\n",
    "1. i. Write a Python program to get the squares of numbers present in the range of (1-10)\n",
    "● output squares = [0, 1, 4, 9, 16, 25, 36, 49, 64, 81, 100]\n",
    "\"\"\"\n",
    "import math \n",
    "l=[]\n",
    "for i in range(0,11):\n",
    "    l.append(pow(i,2))\n",
    "print(l)"
   ]
  },
  {
   "cell_type": "code",
   "execution_count": 16,
   "id": "3a529d20",
   "metadata": {},
   "outputs": [
    {
     "name": "stdout",
     "output_type": "stream",
     "text": [
      "['0', '1', '2', '8', '9', '4', '3', '5', '6', '7']\n"
     ]
    }
   ],
   "source": [
    "\"\"\"\n",
    "2. Convert a list of integers to a list of strings, using List comprehension.\n",
    "\"\"\"\n",
    "intlist=[0,1,2,8,9,4,3,5,6,7]\n",
    "l=[str(x) for x in intlist]\n",
    "print(l)"
   ]
  },
  {
   "cell_type": "code",
   "execution_count": 17,
   "id": "9e1a3528",
   "metadata": {},
   "outputs": [
    {
     "name": "stdout",
     "output_type": "stream",
     "text": [
      "[(0, 'zero'), (0, 'one'), (1, 'zero'), (1, 'one')]\n"
     ]
    }
   ],
   "source": [
    "\"\"\"\n",
    "3. Create tuples from two lists using List Comprehensions\n",
    "Hint: list1 =[0,1] list2 =['zero','one']\n",
    "Output: [(0, 'zero'), (0, 'one'), (1, 'zero'), (1, 'one')]\n",
    "\"\"\"\n",
    "list1=[0,1]\n",
    "list2=['zero','one']\n",
    "list3=[(x,y) for x in list1 for y in list2]\n",
    "print(list3)"
   ]
  },
  {
   "cell_type": "code",
   "execution_count": 18,
   "id": "f5a18667",
   "metadata": {},
   "outputs": [
    {
     "name": "stdout",
     "output_type": "stream",
     "text": [
      "[(0, 'Cat'), (1, 'Mat'), (2, 'Rat')]\n"
     ]
    }
   ],
   "source": [
    "\"\"\"\n",
    "4. Get Index of Each Element of List using enumerate in List Comprehension\n",
    "\"\"\"\n",
    "l=['Cat','Mat','Rat']\n",
    "lst=[(index,lst1) for index,lst1 in enumerate(l)]\n",
    "print(lst) "
   ]
  },
  {
   "cell_type": "code",
   "execution_count": null,
   "id": "8272adbb",
   "metadata": {},
   "outputs": [],
   "source": []
  }
 ],
 "metadata": {
  "kernelspec": {
   "display_name": "Python 3 (ipykernel)",
   "language": "python",
   "name": "python3"
  },
  "language_info": {
   "codemirror_mode": {
    "name": "ipython",
    "version": 3
   },
   "file_extension": ".py",
   "mimetype": "text/x-python",
   "name": "python",
   "nbconvert_exporter": "python",
   "pygments_lexer": "ipython3",
   "version": "3.11.5"
  }
 },
 "nbformat": 4,
 "nbformat_minor": 5
}
